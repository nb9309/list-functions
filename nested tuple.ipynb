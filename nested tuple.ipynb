{
 "cells": [
  {
   "cell_type": "code",
   "execution_count": 1,
   "metadata": {},
   "outputs": [
    {
     "name": "stdout",
     "output_type": "stream",
     "text": [
      "1\n"
     ]
    }
   ],
   "source": [
    "lst = [1,5,'you',(45,2,'or'),('hii',8,65,'joy'),54,8]\n",
    "a = lst.count(8)\n",
    "print(a)"
   ]
  },
  {
   "cell_type": "code",
   "execution_count": 4,
   "metadata": {},
   "outputs": [
    {
     "name": "stdout",
     "output_type": "stream",
     "text": [
      "('or', 2, 45)\n",
      "you\n"
     ]
    }
   ],
   "source": [
    "print(lst[3][::-1])\n",
    "print(lst[2])"
   ]
  },
  {
   "cell_type": "code",
   "execution_count": 5,
   "metadata": {},
   "outputs": [
    {
     "name": "stdout",
     "output_type": "stream",
     "text": [
      "['joy', 65, 8, 'hii']\n"
     ]
    }
   ],
   "source": [
    "lst1 = list(lst[-3])\n",
    "lst1.reverse()\n",
    "print(lst1)"
   ]
  },
  {
   "cell_type": "code",
   "execution_count": 6,
   "metadata": {},
   "outputs": [
    {
     "name": "stdout",
     "output_type": "stream",
     "text": [
      "[1, 5, 'you', (45, 2, 'or'), ('joy', 65, 8, 'hii'), 54, 8]\n"
     ]
    }
   ],
   "source": [
    "tpl=tuple(lst1)\n",
    "lst[-3] = tpl\n",
    "print(lst)"
   ]
  },
  {
   "cell_type": "code",
   "execution_count": 11,
   "metadata": {},
   "outputs": [
    {
     "name": "stdout",
     "output_type": "stream",
     "text": [
      "[45, 2, 10]\n",
      "[1, 5, 'you', (45, 2, 10), ('joy', 65, 8, 'hii'), 54, 8]\n"
     ]
    }
   ],
   "source": [
    "lst2 = list(lst[3])\n",
    "lst2[2] = 10\n",
    "print(lst2)\n",
    "lst[3] = tuple(lst2)\n",
    "print(lst)"
   ]
  },
  {
   "cell_type": "code",
   "execution_count": 15,
   "metadata": {},
   "outputs": [
    {
     "name": "stdout",
     "output_type": "stream",
     "text": [
      "[1, 5, 'you', (2, 10, 45), ('joy', 65, 8, 'hii'), 54, 8]\n"
     ]
    }
   ],
   "source": [
    "lst[3] = tuple(sorted(lst[3]))\n",
    "print(lst)"
   ]
  },
  {
   "cell_type": "code",
   "execution_count": 16,
   "metadata": {},
   "outputs": [
    {
     "name": "stdout",
     "output_type": "stream",
     "text": [
      "(3, 10, ['hii', '3.6', 'nothing'], (3+5j), [20, 10, 36, 25], 6)\n"
     ]
    }
   ],
   "source": [
    "tpl = (3,10,['hii','3.6','what'],3+5j,[20,10,36,25],6)\n",
    "tpl[2][2] = 'nothing'\n",
    "print(tpl)"
   ]
  },
  {
   "cell_type": "code",
   "execution_count": 17,
   "metadata": {},
   "outputs": [
    {
     "name": "stdout",
     "output_type": "stream",
     "text": [
      "(3, 10, ['hii', '3.6', 'nothing'], (3+5j), [10, 20, 25, 36], 6)\n"
     ]
    }
   ],
   "source": [
    "tpl[-2].sort()\n",
    "print(tpl)"
   ]
  },
  {
   "cell_type": "code",
   "execution_count": 28,
   "metadata": {},
   "outputs": [
    {
     "name": "stdout",
     "output_type": "stream",
     "text": [
      "(10, 'ps', (17, 18, 19), (76, 74, 80), 'jntu')\n"
     ]
    }
   ],
   "source": [
    "tupl = (10,'ps',(18,17,19),(76,74,80),'jntu')\n",
    "lst = list(tupl)\n",
    "lst5 = list(lst[2])\n",
    "lst5.sort()\n",
    "lst[2] = tuple(lst5)\n",
    "tupl = tuple(lst)\n",
    "print(tupl)"
   ]
  }
 ],
 "metadata": {
  "kernelspec": {
   "display_name": "base",
   "language": "python",
   "name": "python3"
  },
  "language_info": {
   "codemirror_mode": {
    "name": "ipython",
    "version": 3
   },
   "file_extension": ".py",
   "mimetype": "text/x-python",
   "name": "python",
   "nbconvert_exporter": "python",
   "pygments_lexer": "ipython3",
   "version": "3.9.7"
  }
 },
 "nbformat": 4,
 "nbformat_minor": 2
}
