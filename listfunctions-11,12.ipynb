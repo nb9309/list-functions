{
 "cells": [
  {
   "cell_type": "code",
   "execution_count": 2,
   "metadata": {},
   "outputs": [
    {
     "name": "stdout",
     "output_type": "stream",
     "text": [
      "[0, 3, 5, 8, 9]\n"
     ]
    }
   ],
   "source": [
    "lst = [8,5,9,3,0]\n",
    "lst.sort()\n",
    "print(lst)"
   ]
  },
  {
   "cell_type": "code",
   "execution_count": 4,
   "metadata": {},
   "outputs": [
    {
     "name": "stdout",
     "output_type": "stream",
     "text": [
      "['apple', 'ball', 'loot', 'root']\n",
      "['root', 'loot', 'ball', 'apple']\n"
     ]
    }
   ],
   "source": [
    "a = ['apple','loot','ball','root']\n",
    "a.sort()\n",
    "print(a)\n",
    "a.sort(reverse=True)\n",
    "print(a)"
   ]
  },
  {
   "cell_type": "code",
   "execution_count": 11,
   "metadata": {},
   "outputs": [
    {
     "name": "stdout",
     "output_type": "stream",
     "text": [
      "[0, 3, 5, 8, 9, 'root', 'loot', 'ball', 'apple', 'root', 'loot', 'ball', 'apple', 'root', 'loot', 'ball', 'apple', 'root', 'loot', 'ball', 'apple']\n",
      "None\n"
     ]
    }
   ],
   "source": [
    "lst.extend(a)\n",
    "print(lst)\n",
    "print(lst.extend(a))"
   ]
  },
  {
   "cell_type": "code",
   "execution_count": 12,
   "metadata": {},
   "outputs": [
    {
     "name": "stdout",
     "output_type": "stream",
     "text": [
      "['von', 7, 4, 'ior', 8, 3, 'fff']\n"
     ]
    }
   ],
   "source": [
    "r = ['von',7,4,'ior']\n",
    "i = [8,3,'fff']\n",
    "r.extend(i)\n",
    "print(r)"
   ]
  },
  {
   "cell_type": "code",
   "execution_count": 9,
   "metadata": {},
   "outputs": [
    {
     "name": "stdout",
     "output_type": "stream",
     "text": [
      "None\n"
     ]
    }
   ],
   "source": [
    "z = ['koy',9,2,'dos']\n",
    "f = [8,6,'hot',7+9j]\n",
    "h = z.extend(f)\n",
    "print(h)"
   ]
  },
  {
   "cell_type": "code",
   "execution_count": 10,
   "metadata": {},
   "outputs": [
    {
     "name": "stdout",
     "output_type": "stream",
     "text": [
      "['koy', 9, 2, 'dos', 8, 6, 'hot', (7+9j), 8, 6, 'hot', (7+9j)]\n"
     ]
    }
   ],
   "source": [
    "k = z+f\n",
    "print(k)"
   ]
  }
 ],
 "metadata": {
  "kernelspec": {
   "display_name": "base",
   "language": "python",
   "name": "python3"
  },
  "language_info": {
   "codemirror_mode": {
    "name": "ipython",
    "version": 3
   },
   "file_extension": ".py",
   "mimetype": "text/x-python",
   "name": "python",
   "nbconvert_exporter": "python",
   "pygments_lexer": "ipython3",
   "version": "3.9.7"
  }
 },
 "nbformat": 4,
 "nbformat_minor": 2
}
